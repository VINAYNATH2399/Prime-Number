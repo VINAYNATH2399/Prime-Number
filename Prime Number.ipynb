{
 "cells": [
  {
   "cell_type": "markdown",
   "id": "901dd140",
   "metadata": {},
   "source": [
    "#  Find the Prime Number in Following Way"
   ]
  },
  {
   "cell_type": "markdown",
   "id": "c0dc3961",
   "metadata": {},
   "source": [
    "Q1 Using a flag variable"
   ]
  },
  {
   "cell_type": "code",
   "execution_count": 1,
   "id": "015bcdd2",
   "metadata": {},
   "outputs": [
    {
     "name": "stdout",
     "output_type": "stream",
     "text": [
      "Enter a number: 29\n",
      "29 is a prime number\n"
     ]
    }
   ],
   "source": [
    "num = int(input(\"Enter a number: \"))\n",
    "flag = False\n",
    "if num>1:\n",
    "    for i in range(2,num):\n",
    "        if (num%i)==0:\n",
    "            flag = True\n",
    "            break\n",
    "if flag:\n",
    "    print(num,\"is not a prime number\")\n",
    "else:\n",
    "    print(num,\"is a prime number\")"
   ]
  },
  {
   "cell_type": "markdown",
   "id": "62830e6f",
   "metadata": {},
   "source": [
    "Q2 Using a for...else statement"
   ]
  },
  {
   "cell_type": "code",
   "execution_count": 3,
   "id": "e53390a2",
   "metadata": {},
   "outputs": [
    {
     "name": "stdout",
     "output_type": "stream",
     "text": [
      "Enter a number: 400\n",
      "400 is not a prime number\n",
      "2 times 200 is 400\n"
     ]
    }
   ],
   "source": [
    "num = int(input(\"Enter a number: \"))\n",
    "if num > 1:\n",
    "   # check for factors\n",
    "   for i in range(2,num):\n",
    "       if (num % i) == 0:\n",
    "           print(num,\"is not a prime number\")\n",
    "           print(i,\"times\",num//i,\"is\",num)\n",
    "           break\n",
    "   else:\n",
    "       print(num,\"is a prime number\")\n",
    "       \n",
    "# if input number is less than\n",
    "# or equal to 1, it is not prime\n",
    "else:\n",
    "   print(num,\"is not a prime number\")"
   ]
  },
  {
   "cell_type": "markdown",
   "id": "2bce1846",
   "metadata": {},
   "source": [
    "Q3 using Lower and Upper"
   ]
  },
  {
   "cell_type": "code",
   "execution_count": 4,
   "id": "884807a6",
   "metadata": {},
   "outputs": [
    {
     "name": "stdout",
     "output_type": "stream",
     "text": [
      "Prime numbers between 900 and 1000 are:\n",
      "907\n",
      "911\n",
      "919\n",
      "929\n",
      "937\n",
      "941\n",
      "947\n",
      "953\n",
      "967\n",
      "971\n",
      "977\n",
      "983\n",
      "991\n",
      "997\n"
     ]
    }
   ],
   "source": [
    "lower = 900\n",
    "upper = 1000\n",
    "\n",
    "print(\"Prime numbers between\", lower, \"and\", upper, \"are:\")\n",
    "\n",
    "for num in range(lower, upper + 1):\n",
    "   # all prime numbers are greater than 1\n",
    "   if num > 1:\n",
    "       for i in range(2, num):\n",
    "           if (num % i) == 0:\n",
    "               break\n",
    "       else:\n",
    "           print(num)"
   ]
  },
  {
   "cell_type": "markdown",
   "id": "7e7fa6d0",
   "metadata": {},
   "source": [
    " Q4 Check Prime Number Using For Loop"
   ]
  },
  {
   "cell_type": "code",
   "execution_count": 6,
   "id": "20300297",
   "metadata": {},
   "outputs": [
    {
     "name": "stdout",
     "output_type": "stream",
     "text": [
      "Enter the number:  29\n",
      "29 Is a prime number\n"
     ]
    }
   ],
   "source": [
    "num = int(input(\"Enter the number:  \"))\n",
    "if num>1:\n",
    "    for i in range(2,num):\n",
    "        if num%i == 0:\n",
    "            print(num,\"Is not a prime number\")\n",
    "            break\n",
    "    else:\n",
    "        print(num,\"Is a prime number\")\n",
    "else:\n",
    "    print(num,\"Is not a prime number\")"
   ]
  },
  {
   "cell_type": "markdown",
   "id": "b5ec323e",
   "metadata": {},
   "source": [
    "Q5 Check Prime Number Using While Loop"
   ]
  },
  {
   "cell_type": "code",
   "execution_count": 7,
   "id": "a854c7e8",
   "metadata": {},
   "outputs": [
    {
     "name": "stdout",
     "output_type": "stream",
     "text": [
      "Please enter a number: 29\n",
      "29 is a prime number!\n"
     ]
    }
   ],
   "source": [
    "num = int(input(\"Please enter a number: \"))\n",
    "i = 2\n",
    "flag = 0\n",
    "while i<num:\n",
    "    if num%i == 0:\n",
    "        flag = 1\n",
    "        print(num,\"is NOT a prime number!\")\n",
    "    i = i+1\n",
    "if flag ==0:\n",
    "    print(num,\"is a prime number!\")"
   ]
  },
  {
   "cell_type": "code",
   "execution_count": null,
   "id": "78146c7f",
   "metadata": {},
   "outputs": [],
   "source": []
  }
 ],
 "metadata": {
  "kernelspec": {
   "display_name": "Python 3 (ipykernel)",
   "language": "python",
   "name": "python3"
  },
  "language_info": {
   "codemirror_mode": {
    "name": "ipython",
    "version": 3
   },
   "file_extension": ".py",
   "mimetype": "text/x-python",
   "name": "python",
   "nbconvert_exporter": "python",
   "pygments_lexer": "ipython3",
   "version": "3.10.3"
  }
 },
 "nbformat": 4,
 "nbformat_minor": 5
}
